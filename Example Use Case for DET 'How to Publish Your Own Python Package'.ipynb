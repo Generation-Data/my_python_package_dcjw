{
 "cells": [
  {
   "cell_type": "markdown",
   "id": "e34a2b06-ae94-45e8-a70e-970689d33503",
   "metadata": {},
   "source": [
    "# **Example Use Case for DET 'How to Publish Your Own Python Package'**"
   ]
  },
  {
   "cell_type": "markdown",
   "id": "5a2848fa-9b06-437f-ae0b-c8376649fdfd",
   "metadata": {},
   "source": [
    "## **0. Setup the Workspace -- Jupyter x BigQuery Starter Code**"
   ]
  },
  {
   "cell_type": "markdown",
   "id": "aecb86b1-f927-45d3-aae1-e4e3884ed50c",
   "metadata": {
    "jp-MarkdownHeadingCollapsed": true
   },
   "source": [
    "### 0.1 Install ***google-cloud-bigquery*** and confirm installation"
   ]
  },
  {
   "cell_type": "code",
   "execution_count": null,
   "id": "16bbc697-56d7-4bbd-af3a-afc16922ee02",
   "metadata": {},
   "outputs": [],
   "source": [
    "# !pip install google-cloud-bigquery"
   ]
  },
  {
   "cell_type": "code",
   "execution_count": 6,
   "id": "a32993fc-6a35-4bea-963b-7c3316ab0750",
   "metadata": {},
   "outputs": [
    {
     "name": "stdout",
     "output_type": "stream",
     "text": [
      "Name: google-cloud-bigquery\n",
      "Version: 3.25.0\n",
      "Summary: Google BigQuery API client library\n",
      "Home-page: https://github.com/googleapis/python-bigquery\n",
      "Author: Google LLC\n",
      "Author-email: googleapis-packages@google.com\n",
      "License: Apache 2.0\n",
      "Location: C:\\Users\\david\\anaconda3\\Lib\\site-packages\n",
      "Requires: google-api-core, google-auth, google-cloud-core, google-resumable-media, packaging, python-dateutil, requests\n",
      "Required-by: \n"
     ]
    }
   ],
   "source": [
    "# display detailed information about installed package\n",
    "!pip show google-cloud-bigquery"
   ]
  },
  {
   "cell_type": "code",
   "execution_count": 8,
   "id": "8c3c6851-e75a-4ad8-bba0-3dcaa827a64f",
   "metadata": {},
   "outputs": [
    {
     "name": "stdout",
     "output_type": "stream",
     "text": [
      "# packages in environment at C:\\Users\\david\\anaconda3:\n",
      "#\n",
      "# Name                    Version                   Build  Channel\n",
      "google-cloud-bigquery     3.25.0                   pypi_0    pypi\n"
     ]
    }
   ],
   "source": [
    "# display information about package installed in the current environment\n",
    "!conda list google-cloud-bigquery"
   ]
  },
  {
   "cell_type": "markdown",
   "id": "20a67c11-df9e-4607-a33c-42364d7ff071",
   "metadata": {},
   "source": [
    "### 0.2 Install dependencies needed for google-cloud-bigquery"
   ]
  },
  {
   "cell_type": "code",
   "execution_count": null,
   "id": "4e155229-47c8-4696-b9e0-aba0e13d40d1",
   "metadata": {
    "scrolled": true
   },
   "outputs": [],
   "source": [
    "# !pip install db-dtypes"
   ]
  },
  {
   "cell_type": "code",
   "execution_count": 13,
   "id": "cf3340e8-733f-447d-a6fd-b038f1e88d1d",
   "metadata": {
    "scrolled": true
   },
   "outputs": [
    {
     "name": "stdout",
     "output_type": "stream",
     "text": [
      "Name: db-dtypes\n",
      "Version: 1.2.0\n",
      "Summary: Pandas Data Types for SQL systems (BigQuery, Spanner)\n",
      "Home-page: https://github.com/googleapis/python-db-dtypes-pandas\n",
      "Author: The db-dtypes Authors\n",
      "Author-email: googleapis-packages@google.com\n",
      "License: \n",
      "Location: C:\\Users\\david\\anaconda3\\Lib\\site-packages\n",
      "Requires: numpy, packaging, pandas, pyarrow\n",
      "Required-by: \n"
     ]
    }
   ],
   "source": [
    "# display detailed information about installed package\n",
    "!pip show db-dtypes"
   ]
  },
  {
   "cell_type": "code",
   "execution_count": 15,
   "id": "feaf2c0c-e530-4915-841e-3115b86c866a",
   "metadata": {},
   "outputs": [
    {
     "name": "stdout",
     "output_type": "stream",
     "text": [
      "# packages in environment at C:\\Users\\david\\anaconda3:\n",
      "#\n",
      "# Name                    Version                   Build  Channel\n",
      "db-dtypes                 1.2.0                    pypi_0    pypi\n"
     ]
    }
   ],
   "source": [
    "# display information about package installed in the current environment\n",
    "!conda list db-dtypes"
   ]
  },
  {
   "cell_type": "markdown",
   "id": "a6742077-88fc-4487-a236-23de9b9b81b2",
   "metadata": {},
   "source": [
    "### 0.3 Import bigquery module from google.cloud"
   ]
  },
  {
   "cell_type": "code",
   "execution_count": 18,
   "id": "3bb1e1bb-d7bc-4d39-b394-427187e873f5",
   "metadata": {},
   "outputs": [],
   "source": [
    "from google.cloud import bigquery"
   ]
  },
  {
   "cell_type": "markdown",
   "id": "c5272e6d-b258-4f03-9a9e-459839dbb9ae",
   "metadata": {},
   "source": [
    "### 0.4 Load data from BigQuery into a pandas DataFrame"
   ]
  },
  {
   "cell_type": "code",
   "execution_count": 36,
   "id": "2e0c083f-1e46-4e67-b02b-7f571a405969",
   "metadata": {},
   "outputs": [],
   "source": [
    "# Replace 'your-project-id' with your actual project ID\n",
    "# client = bigquery.Client(project='your-project-id')\n",
    "\n",
    "# Replace 'your-project-id' with your actual project ID\n",
    "client = bigquery.Client(project='prod-generation-data-176bffe6')"
   ]
  },
  {
   "cell_type": "code",
   "execution_count": 32,
   "id": "bbe33490-c236-44e3-8269-aceb7b5b522d",
   "metadata": {},
   "outputs": [
    {
     "name": "stdout",
     "output_type": "stream",
     "text": [
      "No datasets found in project 'prod-generation-data-176bffe6'.\n"
     ]
    }
   ],
   "source": [
    "# List the datasets in the project\n",
    "# datasets = list(client.list_datasets())  # Retrieve the list of datasets in the project\n",
    "\n",
    "# List the datasets in the project\n",
    "datasets = list(client.list_datasets())  # Retrieve the list of datasets in the project\n",
    "\n",
    "if datasets:\n",
    "    print(\"Datasets in project '{}':\".format(client.project))\n",
    "    for dataset in datasets:\n",
    "        print(dataset.dataset_id)\n",
    "else:\n",
    "    print(\"No datasets found in project '{}'.\".format(client.project))"
   ]
  },
  {
   "cell_type": "code",
   "execution_count": 42,
   "id": "45f75b05-0048-4136-8c41-5a197a9f5d04",
   "metadata": {},
   "outputs": [],
   "source": [
    "# List the tables in a given dataset\n",
    "# dataset_id = 'your_dataset_id'  # Replace 'your_dataset_id' with your actual dataset ID\n",
    "\n",
    "dataset_id = 'GA_targetsmart'\n",
    "tables = client.list_tables(dataset_id)  # Retrieve the list of tables in the dataset\n",
    "\n",
    "for table in tables:\n",
    "    print(table.table_id)"
   ]
  },
  {
   "cell_type": "code",
   "execution_count": 15,
   "id": "0bdbdea6-9dd5-47f1-8e52-87f5eb9c2257",
   "metadata": {},
   "outputs": [],
   "source": [
    "# Define your query\n",
    "query = \"\"\"\n",
    "SELECT *\n",
    "FROM `prod-generation-data-176bffe6.GA_targetsmart.voter_base`\n",
    "LIMIT 1000\n",
    "\"\"\""
   ]
  },
  {
   "cell_type": "code",
   "execution_count": 17,
   "id": "d6a27b43-049c-4280-a770-df6ed9511d5e",
   "metadata": {
    "scrolled": true
   },
   "outputs": [
    {
     "name": "stderr",
     "output_type": "stream",
     "text": [
      "C:\\Users\\david\\anaconda3\\Lib\\site-packages\\google\\cloud\\bigquery\\table.py:1727: UserWarning: BigQuery Storage module not found, fetch data with the REST endpoint instead.\n",
      "  warnings.warn(\n"
     ]
    }
   ],
   "source": [
    "# Execute the query and load the results into a DataFrame\n",
    "query_job = client.query(query)\n",
    "results = query_job.result().to_dataframe()"
   ]
  },
  {
   "cell_type": "code",
   "execution_count": 47,
   "id": "67e85990-dff5-4640-9033-f2295d030da7",
   "metadata": {
    "scrolled": true
   },
   "outputs": [],
   "source": [
    "# Display the DataFrame\n",
    "results.sample(10)"
   ]
  },
  {
   "cell_type": "markdown",
   "id": "105afbed-875d-4e79-9a65-413c0c9a0bea",
   "metadata": {},
   "source": [
    "### 0.5 Load data from CSV into a pandas DataFrame"
   ]
  },
  {
   "cell_type": "code",
   "execution_count": 17,
   "id": "cb77e3a6-b928-4bbf-ac89-a89084fa3f16",
   "metadata": {},
   "outputs": [],
   "source": [
    "import pandas as pd"
   ]
  },
  {
   "cell_type": "code",
   "execution_count": 19,
   "id": "369260b7-c2fa-4fa7-a6f4-4b70187188a2",
   "metadata": {},
   "outputs": [],
   "source": [
    "voters_df = pd.read_csv(r\"F:\\OneDrive\\Documents\\Generation Data\\Data Engineering - Online - July 2024\\Python for Data Engineering\\subset_vb_targetsmart_data_for_pypi.csv\")"
   ]
  },
  {
   "cell_type": "code",
   "execution_count": 21,
   "id": "7ec0f72a-c49d-4026-b7e1-af8773a9244e",
   "metadata": {},
   "outputs": [
    {
     "data": {
      "text/html": [
       "<div>\n",
       "<style scoped>\n",
       "    .dataframe tbody tr th:only-of-type {\n",
       "        vertical-align: middle;\n",
       "    }\n",
       "\n",
       "    .dataframe tbody tr th {\n",
       "        vertical-align: top;\n",
       "    }\n",
       "\n",
       "    .dataframe thead th {\n",
       "        text-align: right;\n",
       "    }\n",
       "</style>\n",
       "<table border=\"1\" class=\"dataframe\">\n",
       "  <thead>\n",
       "    <tr style=\"text-align: right;\">\n",
       "      <th></th>\n",
       "      <th>voterbase_id</th>\n",
       "      <th>name</th>\n",
       "      <th>vb_tsmart_city</th>\n",
       "      <th>vb_tsmart_state</th>\n",
       "      <th>vb_tsmart_midterm_general_turnout_score</th>\n",
       "    </tr>\n",
       "  </thead>\n",
       "  <tbody>\n",
       "    <tr>\n",
       "      <th>196</th>\n",
       "      <td>GA-000001362154</td>\n",
       "      <td>Ramlow, Nancy</td>\n",
       "      <td>Auburn</td>\n",
       "      <td>GA</td>\n",
       "      <td>94.9</td>\n",
       "    </tr>\n",
       "    <tr>\n",
       "      <th>125</th>\n",
       "      <td>GA-8026468</td>\n",
       "      <td>Pierre, Claude-Henry</td>\n",
       "      <td>Auburn</td>\n",
       "      <td>GA</td>\n",
       "      <td>86.9</td>\n",
       "    </tr>\n",
       "    <tr>\n",
       "      <th>26</th>\n",
       "      <td>GA-10045782</td>\n",
       "      <td>Poss, Dana</td>\n",
       "      <td>Auburn</td>\n",
       "      <td>GA</td>\n",
       "      <td>16.0</td>\n",
       "    </tr>\n",
       "    <tr>\n",
       "      <th>57</th>\n",
       "      <td>GA-000004177580</td>\n",
       "      <td>Sweeney, Miranda</td>\n",
       "      <td>Auburn</td>\n",
       "      <td>GA</td>\n",
       "      <td>50.9</td>\n",
       "    </tr>\n",
       "    <tr>\n",
       "      <th>237</th>\n",
       "      <td>GA-9717720</td>\n",
       "      <td>Mast, Clayton</td>\n",
       "      <td>Auburn</td>\n",
       "      <td>GA</td>\n",
       "      <td>57.5</td>\n",
       "    </tr>\n",
       "    <tr>\n",
       "      <th>210</th>\n",
       "      <td>GA-9481736</td>\n",
       "      <td>Shackelford, Brian</td>\n",
       "      <td>Auburn</td>\n",
       "      <td>GA</td>\n",
       "      <td>49.9</td>\n",
       "    </tr>\n",
       "    <tr>\n",
       "      <th>258</th>\n",
       "      <td>GA-000004110349</td>\n",
       "      <td>Taliaferro, Tiffany</td>\n",
       "      <td>Auburn</td>\n",
       "      <td>GA</td>\n",
       "      <td>88.8</td>\n",
       "    </tr>\n",
       "    <tr>\n",
       "      <th>9</th>\n",
       "      <td>GA-10141907</td>\n",
       "      <td>Stokes, Korben</td>\n",
       "      <td>Auburn</td>\n",
       "      <td>GA</td>\n",
       "      <td>59.4</td>\n",
       "    </tr>\n",
       "    <tr>\n",
       "      <th>16</th>\n",
       "      <td>GA-9417977</td>\n",
       "      <td>Wallace, William</td>\n",
       "      <td>Auburn</td>\n",
       "      <td>GA</td>\n",
       "      <td>17.5</td>\n",
       "    </tr>\n",
       "    <tr>\n",
       "      <th>113</th>\n",
       "      <td>GA-000003885756</td>\n",
       "      <td>Wing, Cordilla</td>\n",
       "      <td>Auburn</td>\n",
       "      <td>GA</td>\n",
       "      <td>91.0</td>\n",
       "    </tr>\n",
       "    <tr>\n",
       "      <th>39</th>\n",
       "      <td>GA-10245909</td>\n",
       "      <td>Rivera, Manuel</td>\n",
       "      <td>Auburn</td>\n",
       "      <td>GA</td>\n",
       "      <td>78.1</td>\n",
       "    </tr>\n",
       "    <tr>\n",
       "      <th>193</th>\n",
       "      <td>GA-8027354</td>\n",
       "      <td>Parris, Timothy</td>\n",
       "      <td>Auburn</td>\n",
       "      <td>GA</td>\n",
       "      <td>76.2</td>\n",
       "    </tr>\n",
       "    <tr>\n",
       "      <th>170</th>\n",
       "      <td>GA-6783563</td>\n",
       "      <td>Mcferrin, Olivia</td>\n",
       "      <td>Auburn</td>\n",
       "      <td>GA</td>\n",
       "      <td>85.2</td>\n",
       "    </tr>\n",
       "    <tr>\n",
       "      <th>90</th>\n",
       "      <td>GA-000004388466</td>\n",
       "      <td>Hamrick, Mabel</td>\n",
       "      <td>Jefferson</td>\n",
       "      <td>GA</td>\n",
       "      <td>5.5</td>\n",
       "    </tr>\n",
       "    <tr>\n",
       "      <th>186</th>\n",
       "      <td>GA-10451079</td>\n",
       "      <td>Simmons, William</td>\n",
       "      <td>Auburn</td>\n",
       "      <td>GA</td>\n",
       "      <td>20.3</td>\n",
       "    </tr>\n",
       "    <tr>\n",
       "      <th>275</th>\n",
       "      <td>GA-000004249831</td>\n",
       "      <td>Foster, Anita</td>\n",
       "      <td>Auburn</td>\n",
       "      <td>GA</td>\n",
       "      <td>67.4</td>\n",
       "    </tr>\n",
       "    <tr>\n",
       "      <th>19</th>\n",
       "      <td>GA-000002544985</td>\n",
       "      <td>Proctor, Weston</td>\n",
       "      <td>Auburn</td>\n",
       "      <td>GA</td>\n",
       "      <td>89.7</td>\n",
       "    </tr>\n",
       "    <tr>\n",
       "      <th>151</th>\n",
       "      <td>GA-5491789</td>\n",
       "      <td>Weaver, Elsie</td>\n",
       "      <td>Greensburg</td>\n",
       "      <td>KS</td>\n",
       "      <td>18.1</td>\n",
       "    </tr>\n",
       "    <tr>\n",
       "      <th>146</th>\n",
       "      <td>GA-7146263</td>\n",
       "      <td>Brooks, Jeffrey</td>\n",
       "      <td>Dacula</td>\n",
       "      <td>GA</td>\n",
       "      <td>59.8</td>\n",
       "    </tr>\n",
       "    <tr>\n",
       "      <th>215</th>\n",
       "      <td>GA-5234830</td>\n",
       "      <td>Brown, Dawn</td>\n",
       "      <td>Auburn</td>\n",
       "      <td>GA</td>\n",
       "      <td>84.4</td>\n",
       "    </tr>\n",
       "  </tbody>\n",
       "</table>\n",
       "</div>"
      ],
      "text/plain": [
       "        voterbase_id                  name vb_tsmart_city vb_tsmart_state  \\\n",
       "196  GA-000001362154         Ramlow, Nancy         Auburn              GA   \n",
       "125       GA-8026468  Pierre, Claude-Henry         Auburn              GA   \n",
       "26       GA-10045782            Poss, Dana         Auburn              GA   \n",
       "57   GA-000004177580      Sweeney, Miranda         Auburn              GA   \n",
       "237       GA-9717720         Mast, Clayton         Auburn              GA   \n",
       "210       GA-9481736    Shackelford, Brian         Auburn              GA   \n",
       "258  GA-000004110349   Taliaferro, Tiffany         Auburn              GA   \n",
       "9        GA-10141907        Stokes, Korben         Auburn              GA   \n",
       "16        GA-9417977      Wallace, William         Auburn              GA   \n",
       "113  GA-000003885756        Wing, Cordilla         Auburn              GA   \n",
       "39       GA-10245909        Rivera, Manuel         Auburn              GA   \n",
       "193       GA-8027354       Parris, Timothy         Auburn              GA   \n",
       "170       GA-6783563      Mcferrin, Olivia         Auburn              GA   \n",
       "90   GA-000004388466        Hamrick, Mabel      Jefferson              GA   \n",
       "186      GA-10451079      Simmons, William         Auburn              GA   \n",
       "275  GA-000004249831         Foster, Anita         Auburn              GA   \n",
       "19   GA-000002544985       Proctor, Weston         Auburn              GA   \n",
       "151       GA-5491789         Weaver, Elsie     Greensburg              KS   \n",
       "146       GA-7146263       Brooks, Jeffrey         Dacula              GA   \n",
       "215       GA-5234830           Brown, Dawn         Auburn              GA   \n",
       "\n",
       "     vb_tsmart_midterm_general_turnout_score  \n",
       "196                                     94.9  \n",
       "125                                     86.9  \n",
       "26                                      16.0  \n",
       "57                                      50.9  \n",
       "237                                     57.5  \n",
       "210                                     49.9  \n",
       "258                                     88.8  \n",
       "9                                       59.4  \n",
       "16                                      17.5  \n",
       "113                                     91.0  \n",
       "39                                      78.1  \n",
       "193                                     76.2  \n",
       "170                                     85.2  \n",
       "90                                       5.5  \n",
       "186                                     20.3  \n",
       "275                                     67.4  \n",
       "19                                      89.7  \n",
       "151                                     18.1  \n",
       "146                                     59.8  \n",
       "215                                     84.4  "
      ]
     },
     "execution_count": 21,
     "metadata": {},
     "output_type": "execute_result"
    }
   ],
   "source": [
    "# glimse\n",
    "voters_df.sample(20)"
   ]
  },
  {
   "cell_type": "markdown",
   "id": "6a0ce339-9494-48d2-aeef-583220473f37",
   "metadata": {},
   "source": [
    "## **1. Import new custom function**"
   ]
  },
  {
   "cell_type": "code",
   "execution_count": 7,
   "id": "439bda61-fbb9-49c7-89ff-cc60ecad29c9",
   "metadata": {},
   "outputs": [
    {
     "name": "stdout",
     "output_type": "stream",
     "text": [
      "Collecting turnout-tier-categorization==0.2.0\n",
      "  Downloading turnout_tier_categorization-0.2.0-py3-none-any.whl.metadata (2.3 kB)\n",
      "Requirement already satisfied: pandas>=1.0 in c:\\users\\david\\anaconda3\\lib\\site-packages (from turnout-tier-categorization==0.2.0) (2.2.2)\n",
      "Requirement already satisfied: numpy>=1.26.0 in c:\\users\\david\\anaconda3\\lib\\site-packages (from pandas>=1.0->turnout-tier-categorization==0.2.0) (1.26.4)\n",
      "Requirement already satisfied: python-dateutil>=2.8.2 in c:\\users\\david\\anaconda3\\lib\\site-packages (from pandas>=1.0->turnout-tier-categorization==0.2.0) (2.9.0.post0)\n",
      "Requirement already satisfied: pytz>=2020.1 in c:\\users\\david\\anaconda3\\lib\\site-packages (from pandas>=1.0->turnout-tier-categorization==0.2.0) (2024.1)\n",
      "Requirement already satisfied: tzdata>=2022.7 in c:\\users\\david\\anaconda3\\lib\\site-packages (from pandas>=1.0->turnout-tier-categorization==0.2.0) (2023.3)\n",
      "Requirement already satisfied: six>=1.5 in c:\\users\\david\\anaconda3\\lib\\site-packages (from python-dateutil>=2.8.2->pandas>=1.0->turnout-tier-categorization==0.2.0) (1.16.0)\n",
      "Downloading turnout_tier_categorization-0.2.0-py3-none-any.whl (4.2 kB)\n",
      "Installing collected packages: turnout-tier-categorization\n",
      "  Attempting uninstall: turnout-tier-categorization\n",
      "    Found existing installation: turnout-tier-categorization 0.1.0\n",
      "    Uninstalling turnout-tier-categorization-0.1.0:\n",
      "      Successfully uninstalled turnout-tier-categorization-0.1.0\n",
      "Successfully installed turnout-tier-categorization-0.2.0\n",
      "Note: you may need to restart the kernel to use updated packages.\n"
     ]
    },
    {
     "name": "stderr",
     "output_type": "stream",
     "text": [
      "WARNING: Skipping C:\\Users\\david\\anaconda3\\Lib\\site-packages\\turnout_tier_categorization-0.1.0.dist-info due to invalid metadata entry 'name'\n"
     ]
    }
   ],
   "source": [
    "pip install turnout-tier-categorization==0.2.0"
   ]
  },
  {
   "cell_type": "code",
   "execution_count": 9,
   "id": "11f42c15-6a55-4ec0-be7f-b33547058e85",
   "metadata": {
    "scrolled": true
   },
   "outputs": [
    {
     "name": "stdout",
     "output_type": "stream",
     "text": [
      "Name: turnout-tier-categorization\n",
      "Version: 0.1.0\n",
      "Summary: A function to add a turnout tier categorization column to a pandas DataFrame\n",
      "Home-page: https://github.com/davidwhite/turnout_tier_categorization\n",
      "Author: David White\n",
      "Author-email: david@generationdata.org\n",
      "License: \n",
      "Location: C:\\Users\\david\\anaconda3\\Lib\\site-packages\n",
      "Requires: pandas\n",
      "Required-by: \n"
     ]
    }
   ],
   "source": [
    "# display detailed information about instaled package\n",
    "!pip show turnout-tier-categorization"
   ]
  },
  {
   "cell_type": "code",
   "execution_count": 42,
   "id": "c8ae8605-f31b-4f84-be48-feffd2da6e05",
   "metadata": {},
   "outputs": [
    {
     "name": "stdout",
     "output_type": "stream",
     "text": [
      "# packages in environment at C:\\Users\\david\\anaconda3:\n",
      "#\n",
      "# Name                    Version                   Build  Channel\n",
      "turnout-tier-categorization 0.1.0                    pypi_0    pypi\n"
     ]
    }
   ],
   "source": [
    "!conda list turnout-tier-categorization"
   ]
  },
  {
   "cell_type": "markdown",
   "id": "f592b132-14b0-4a15-a323-48daf34c6884",
   "metadata": {},
   "source": [
    "## **2. Use new custom function to add a new column for 'turnout tier' to a DataFrame**"
   ]
  },
  {
   "cell_type": "code",
   "execution_count": 11,
   "id": "dbbbe9b7-b9b0-49b4-a655-2d708311b982",
   "metadata": {},
   "outputs": [],
   "source": [
    "from analytics.turnout_tier_categorization import add_turnout_tier"
   ]
  },
  {
   "cell_type": "code",
   "execution_count": 23,
   "id": "4771c4db-0f99-4683-af6f-2ce39bb38df2",
   "metadata": {},
   "outputs": [],
   "source": [
    "tiers = add_turnout_tier(voters_df, 'vb_tsmart_midterm_general_turnout_score')"
   ]
  },
  {
   "cell_type": "code",
   "execution_count": 25,
   "id": "3842fcf6-6ebc-4a77-8bb1-5e00311fc751",
   "metadata": {},
   "outputs": [
    {
     "data": {
      "text/html": [
       "<div>\n",
       "<style scoped>\n",
       "    .dataframe tbody tr th:only-of-type {\n",
       "        vertical-align: middle;\n",
       "    }\n",
       "\n",
       "    .dataframe tbody tr th {\n",
       "        vertical-align: top;\n",
       "    }\n",
       "\n",
       "    .dataframe thead th {\n",
       "        text-align: right;\n",
       "    }\n",
       "</style>\n",
       "<table border=\"1\" class=\"dataframe\">\n",
       "  <thead>\n",
       "    <tr style=\"text-align: right;\">\n",
       "      <th></th>\n",
       "      <th>voterbase_id</th>\n",
       "      <th>name</th>\n",
       "      <th>vb_tsmart_city</th>\n",
       "      <th>vb_tsmart_state</th>\n",
       "      <th>vb_tsmart_midterm_general_turnout_score</th>\n",
       "      <th>turnout_tier</th>\n",
       "    </tr>\n",
       "  </thead>\n",
       "  <tbody>\n",
       "    <tr>\n",
       "      <th>20</th>\n",
       "      <td>GA-000000382903</td>\n",
       "      <td>Jackson, Andrew</td>\n",
       "      <td>Auburn</td>\n",
       "      <td>GA</td>\n",
       "      <td>62.3</td>\n",
       "      <td>Turnout Tier 2</td>\n",
       "    </tr>\n",
       "    <tr>\n",
       "      <th>164</th>\n",
       "      <td>GA-9427698</td>\n",
       "      <td>Standridge, Jakob</td>\n",
       "      <td>Auburn</td>\n",
       "      <td>GA</td>\n",
       "      <td>6.2</td>\n",
       "      <td>Very unlikely to vote regardless of campaign</td>\n",
       "    </tr>\n",
       "    <tr>\n",
       "      <th>90</th>\n",
       "      <td>GA-000004388466</td>\n",
       "      <td>Hamrick, Mabel</td>\n",
       "      <td>Jefferson</td>\n",
       "      <td>GA</td>\n",
       "      <td>5.5</td>\n",
       "      <td>Very unlikely to vote regardless of campaign</td>\n",
       "    </tr>\n",
       "    <tr>\n",
       "      <th>272</th>\n",
       "      <td>GA-8384463</td>\n",
       "      <td>Verrett, Eddison</td>\n",
       "      <td>Auburn</td>\n",
       "      <td>GA</td>\n",
       "      <td>49.7</td>\n",
       "      <td>Turnout Tier 3</td>\n",
       "    </tr>\n",
       "    <tr>\n",
       "      <th>298</th>\n",
       "      <td>GA-8794409</td>\n",
       "      <td>Aliskovic, Demir</td>\n",
       "      <td>Auburn</td>\n",
       "      <td>GA</td>\n",
       "      <td>69.1</td>\n",
       "      <td>Very unlikely to vote regardless of campaign</td>\n",
       "    </tr>\n",
       "    <tr>\n",
       "      <th>127</th>\n",
       "      <td>GA-8062750</td>\n",
       "      <td>Flynn, Collin</td>\n",
       "      <td>Auburn</td>\n",
       "      <td>GA</td>\n",
       "      <td>41.7</td>\n",
       "      <td>Turnout Tier 3</td>\n",
       "    </tr>\n",
       "    <tr>\n",
       "      <th>169</th>\n",
       "      <td>GA-6702738</td>\n",
       "      <td>Winkler, Arein</td>\n",
       "      <td>Auburn</td>\n",
       "      <td>GA</td>\n",
       "      <td>81.7</td>\n",
       "      <td>Very likely to vote regardless of campaign</td>\n",
       "    </tr>\n",
       "    <tr>\n",
       "      <th>109</th>\n",
       "      <td>GA-9296936</td>\n",
       "      <td>Odugbesan, Opeyemi</td>\n",
       "      <td>Auburn</td>\n",
       "      <td>GA</td>\n",
       "      <td>86.4</td>\n",
       "      <td>Very likely to vote regardless of campaign</td>\n",
       "    </tr>\n",
       "    <tr>\n",
       "      <th>123</th>\n",
       "      <td>GA-5341537</td>\n",
       "      <td>Currie, James</td>\n",
       "      <td>Auburn</td>\n",
       "      <td>GA</td>\n",
       "      <td>84.1</td>\n",
       "      <td>Very likely to vote regardless of campaign</td>\n",
       "    </tr>\n",
       "    <tr>\n",
       "      <th>279</th>\n",
       "      <td>GA-5208564</td>\n",
       "      <td>Thomas, Leon</td>\n",
       "      <td>Auburn</td>\n",
       "      <td>GA</td>\n",
       "      <td>86.2</td>\n",
       "      <td>Very likely to vote regardless of campaign</td>\n",
       "    </tr>\n",
       "    <tr>\n",
       "      <th>191</th>\n",
       "      <td>GA-7822542</td>\n",
       "      <td>Given, William</td>\n",
       "      <td>Auburn</td>\n",
       "      <td>GA</td>\n",
       "      <td>86.6</td>\n",
       "      <td>Very likely to vote regardless of campaign</td>\n",
       "    </tr>\n",
       "    <tr>\n",
       "      <th>189</th>\n",
       "      <td>GA-7967557</td>\n",
       "      <td>Baker, Robert</td>\n",
       "      <td>Auburn</td>\n",
       "      <td>GA</td>\n",
       "      <td>3.8</td>\n",
       "      <td>Very unlikely to vote regardless of campaign</td>\n",
       "    </tr>\n",
       "    <tr>\n",
       "      <th>72</th>\n",
       "      <td>GA-10849059</td>\n",
       "      <td>Weaver, Elizabeth</td>\n",
       "      <td>Auburn</td>\n",
       "      <td>GA</td>\n",
       "      <td>91.4</td>\n",
       "      <td>Very likely to vote regardless of campaign</td>\n",
       "    </tr>\n",
       "    <tr>\n",
       "      <th>195</th>\n",
       "      <td>GA-9005631</td>\n",
       "      <td>Scott, Robert</td>\n",
       "      <td>Auburn</td>\n",
       "      <td>GA</td>\n",
       "      <td>84.2</td>\n",
       "      <td>Very likely to vote regardless of campaign</td>\n",
       "    </tr>\n",
       "    <tr>\n",
       "      <th>289</th>\n",
       "      <td>GA-7965657</td>\n",
       "      <td>Bossio, Jaime</td>\n",
       "      <td>Auburn</td>\n",
       "      <td>GA</td>\n",
       "      <td>76.7</td>\n",
       "      <td>Turnout Tier 1</td>\n",
       "    </tr>\n",
       "    <tr>\n",
       "      <th>160</th>\n",
       "      <td>GA-000000460170</td>\n",
       "      <td>Rosbury, Jennifer</td>\n",
       "      <td>Auburn</td>\n",
       "      <td>GA</td>\n",
       "      <td>69.7</td>\n",
       "      <td>Very unlikely to vote regardless of campaign</td>\n",
       "    </tr>\n",
       "    <tr>\n",
       "      <th>220</th>\n",
       "      <td>GA-000002513590</td>\n",
       "      <td>Patterson, Billy</td>\n",
       "      <td>Auburn</td>\n",
       "      <td>GA</td>\n",
       "      <td>92.2</td>\n",
       "      <td>Very likely to vote regardless of campaign</td>\n",
       "    </tr>\n",
       "    <tr>\n",
       "      <th>68</th>\n",
       "      <td>GA-5302379</td>\n",
       "      <td>Baker, Eileen</td>\n",
       "      <td>Auburn</td>\n",
       "      <td>GA</td>\n",
       "      <td>20.6</td>\n",
       "      <td>Very unlikely to vote regardless of campaign</td>\n",
       "    </tr>\n",
       "    <tr>\n",
       "      <th>134</th>\n",
       "      <td>GA-10862116</td>\n",
       "      <td>Rhee, Jung</td>\n",
       "      <td>Auburn</td>\n",
       "      <td>GA</td>\n",
       "      <td>24.0</td>\n",
       "      <td>Very unlikely to vote regardless of campaign</td>\n",
       "    </tr>\n",
       "    <tr>\n",
       "      <th>166</th>\n",
       "      <td>GA-000004588744</td>\n",
       "      <td>Childs, Angelia</td>\n",
       "      <td>Winder</td>\n",
       "      <td>GA</td>\n",
       "      <td>83.8</td>\n",
       "      <td>Very likely to vote regardless of campaign</td>\n",
       "    </tr>\n",
       "  </tbody>\n",
       "</table>\n",
       "</div>"
      ],
      "text/plain": [
       "        voterbase_id                name vb_tsmart_city vb_tsmart_state  \\\n",
       "20   GA-000000382903     Jackson, Andrew         Auburn              GA   \n",
       "164       GA-9427698   Standridge, Jakob         Auburn              GA   \n",
       "90   GA-000004388466      Hamrick, Mabel      Jefferson              GA   \n",
       "272       GA-8384463    Verrett, Eddison         Auburn              GA   \n",
       "298       GA-8794409    Aliskovic, Demir         Auburn              GA   \n",
       "127       GA-8062750       Flynn, Collin         Auburn              GA   \n",
       "169       GA-6702738      Winkler, Arein         Auburn              GA   \n",
       "109       GA-9296936  Odugbesan, Opeyemi         Auburn              GA   \n",
       "123       GA-5341537       Currie, James         Auburn              GA   \n",
       "279       GA-5208564        Thomas, Leon         Auburn              GA   \n",
       "191       GA-7822542      Given, William         Auburn              GA   \n",
       "189       GA-7967557       Baker, Robert         Auburn              GA   \n",
       "72       GA-10849059   Weaver, Elizabeth         Auburn              GA   \n",
       "195       GA-9005631       Scott, Robert         Auburn              GA   \n",
       "289       GA-7965657       Bossio, Jaime         Auburn              GA   \n",
       "160  GA-000000460170   Rosbury, Jennifer         Auburn              GA   \n",
       "220  GA-000002513590    Patterson, Billy         Auburn              GA   \n",
       "68        GA-5302379       Baker, Eileen         Auburn              GA   \n",
       "134      GA-10862116          Rhee, Jung         Auburn              GA   \n",
       "166  GA-000004588744     Childs, Angelia         Winder              GA   \n",
       "\n",
       "     vb_tsmart_midterm_general_turnout_score  \\\n",
       "20                                      62.3   \n",
       "164                                      6.2   \n",
       "90                                       5.5   \n",
       "272                                     49.7   \n",
       "298                                     69.1   \n",
       "127                                     41.7   \n",
       "169                                     81.7   \n",
       "109                                     86.4   \n",
       "123                                     84.1   \n",
       "279                                     86.2   \n",
       "191                                     86.6   \n",
       "189                                      3.8   \n",
       "72                                      91.4   \n",
       "195                                     84.2   \n",
       "289                                     76.7   \n",
       "160                                     69.7   \n",
       "220                                     92.2   \n",
       "68                                      20.6   \n",
       "134                                     24.0   \n",
       "166                                     83.8   \n",
       "\n",
       "                                     turnout_tier  \n",
       "20                                 Turnout Tier 2  \n",
       "164  Very unlikely to vote regardless of campaign  \n",
       "90   Very unlikely to vote regardless of campaign  \n",
       "272                                Turnout Tier 3  \n",
       "298  Very unlikely to vote regardless of campaign  \n",
       "127                                Turnout Tier 3  \n",
       "169    Very likely to vote regardless of campaign  \n",
       "109    Very likely to vote regardless of campaign  \n",
       "123    Very likely to vote regardless of campaign  \n",
       "279    Very likely to vote regardless of campaign  \n",
       "191    Very likely to vote regardless of campaign  \n",
       "189  Very unlikely to vote regardless of campaign  \n",
       "72     Very likely to vote regardless of campaign  \n",
       "195    Very likely to vote regardless of campaign  \n",
       "289                                Turnout Tier 1  \n",
       "160  Very unlikely to vote regardless of campaign  \n",
       "220    Very likely to vote regardless of campaign  \n",
       "68   Very unlikely to vote regardless of campaign  \n",
       "134  Very unlikely to vote regardless of campaign  \n",
       "166    Very likely to vote regardless of campaign  "
      ]
     },
     "execution_count": 25,
     "metadata": {},
     "output_type": "execute_result"
    }
   ],
   "source": [
    "#glimpse\n",
    "tiers.sample(20)"
   ]
  },
  {
   "cell_type": "markdown",
   "id": "d1e06d5a-9cc3-4041-bd29-aff2758c64ed",
   "metadata": {},
   "source": [
    "## 3. Briefly summarize the ***tiers*** DataFrame"
   ]
  },
  {
   "cell_type": "code",
   "execution_count": 29,
   "id": "9f32a4c2-d447-4564-a88b-c7057c8425c9",
   "metadata": {},
   "outputs": [
    {
     "name": "stdout",
     "output_type": "stream",
     "text": [
      "<class 'pandas.core.frame.DataFrame'>\n",
      "RangeIndex: 300 entries, 0 to 299\n",
      "Data columns (total 6 columns):\n",
      " #   Column                                   Non-Null Count  Dtype  \n",
      "---  ------                                   --------------  -----  \n",
      " 0   voterbase_id                             300 non-null    object \n",
      " 1   name                                     300 non-null    object \n",
      " 2   vb_tsmart_city                           300 non-null    object \n",
      " 3   vb_tsmart_state                          300 non-null    object \n",
      " 4   vb_tsmart_midterm_general_turnout_score  300 non-null    float64\n",
      " 5   turnout_tier                             300 non-null    object \n",
      "dtypes: float64(1), object(5)\n",
      "memory usage: 14.2+ KB\n"
     ]
    }
   ],
   "source": [
    "tiers.info()"
   ]
  },
  {
   "cell_type": "code",
   "execution_count": 74,
   "id": "ce6077d8-2fc1-45ef-a59e-49843754c679",
   "metadata": {
    "scrolled": true
   },
   "outputs": [
    {
     "data": {
      "text/plain": [
       "turnout_tier\n",
       "Very likely to vote regardless of campaign      107\n",
       "Very unlikely to vote regardless of campaign     92\n",
       "Turnout Tier 2                                   39\n",
       "Turnout Tier 3                                   34\n",
       "Turnout Tier 1                                   28\n",
       "Name: count, dtype: int64"
      ]
     },
     "execution_count": 74,
     "metadata": {},
     "output_type": "execute_result"
    }
   ],
   "source": [
    "tiers['turnout_tier'].value_counts()"
   ]
  },
  {
   "cell_type": "code",
   "execution_count": 76,
   "id": "479a240a-6b1e-4a36-9c93-9e198a09c386",
   "metadata": {},
   "outputs": [
    {
     "data": {
      "text/plain": [
       "turnout_tier\n",
       "Very likely to vote regardless of campaign      0.356667\n",
       "Very unlikely to vote regardless of campaign    0.306667\n",
       "Turnout Tier 2                                  0.130000\n",
       "Turnout Tier 3                                  0.113333\n",
       "Turnout Tier 1                                  0.093333\n",
       "Name: proportion, dtype: float64"
      ]
     },
     "execution_count": 76,
     "metadata": {},
     "output_type": "execute_result"
    }
   ],
   "source": [
    "tiers['turnout_tier'].value_counts(normalize=True)"
   ]
  },
  {
   "cell_type": "markdown",
   "id": "f323d421-288e-4db7-ae95-164fa00cef03",
   "metadata": {},
   "source": [
    "---"
   ]
  }
 ],
 "metadata": {
  "kernelspec": {
   "display_name": "Python 3 (ipykernel)",
   "language": "python",
   "name": "python3"
  },
  "language_info": {
   "codemirror_mode": {
    "name": "ipython",
    "version": 3
   },
   "file_extension": ".py",
   "mimetype": "text/x-python",
   "name": "python",
   "nbconvert_exporter": "python",
   "pygments_lexer": "ipython3",
   "version": "3.12.3"
  }
 },
 "nbformat": 4,
 "nbformat_minor": 5
}
